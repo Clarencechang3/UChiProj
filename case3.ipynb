{
 "cells": [
  {
   "cell_type": "code",
   "execution_count": 1,
   "metadata": {},
   "outputs": [],
   "source": [
    "import numpy as np\n",
    "from numpy.linalg import inv\n",
    "import pandas as pd\n",
    "from scipy.optimize import newton\n",
    "\n"
   ]
  },
  {
   "cell_type": "code",
   "execution_count": 37,
   "metadata": {},
   "outputs": [],
   "source": [
    "# List of valid assets in portfolio\n",
    "assets = [\n",
    "    \"S1\",\n",
    "    \"S2\",\n",
    "    \"S3\",\n",
    "    \"S4\",\n",
    "    \"S5\",\n",
    "    \"S6\",\n",
    "    \"S7\",\n",
    "    \"S8\",\n",
    "    \"B1\",\n",
    "    \"B2\",\n",
    "    \"B3\",\n",
    "    \"B4\",\n",
    "    \"B5\",\n",
    "    \"B6\",\n",
    "    \"B7\",\n",
    "    \"B8\",\n",
    "    \"C1\",\n",
    "    \"C2\",\n",
    "    \"C3\",\n",
    "    \"C4\",\n",
    "    \"C5\",\n",
    "    \"C6\",\n",
    "    \"C7\",\n",
    "    \"C8\",\n",
    "]\n",
    "\n",
    "\n",
    "n_assets = len(assets)\n",
    "\n",
    "# Global storage of price data\n",
    "historical_returns = pd.read_csv(\"portfolio/Case3HistoricalPrices.csv\", index_col=0)\n"
   ]
  },
  {
   "cell_type": "code",
   "execution_count": 39,
   "metadata": {},
   "outputs": [],
   "source": [
    "# Uses 180-day volatility weighting\n",
    "risk = np.asarray(historical_returns.iloc[-180:].std())\n",
    "weighted = np.divide(np.repeat(1, n_assets), risk)\n",
    "total = np.sum(weighted)"
   ]
  },
  {
   "cell_type": "code",
   "execution_count": 40,
   "metadata": {},
   "outputs": [],
   "source": [
    "# Ensure weights add to 1\n",
    "market_weights = weighted / total"
   ]
  },
  {
   "cell_type": "code",
   "execution_count": 41,
   "metadata": {},
   "outputs": [],
   "source": [
    "#covariance matrix of returns, since risk free rate is 0, don't need to calculate excess returns\n",
    "cov = historical_returns.cov().to_numpy()"
   ]
  },
  {
   "cell_type": "code",
   "execution_count": 46,
   "metadata": {},
   "outputs": [],
   "source": [
    "#return and variance of the market portfolio\n",
    "global_return = historical_returns.mean().multiply(market_weights).sum()\n",
    "market_var = np.matmul(market_weights.reshape(len(market_weights)).T,\n",
    "                                       np.matmul(cov, market_weights.reshape(len(market_weights))))\n",
    "risk_aversion = global_return / market_var"
   ]
  },
  {
   "cell_type": "code",
   "execution_count": 66,
   "metadata": {},
   "outputs": [],
   "source": [
    "calculate_implied_returns = lambda weights : risk_aversion * cov.dot(weights)\n",
    "# reg_implied_returns = calculate_implied_returns(market_weights)"
   ]
  },
  {
   "cell_type": "code",
   "execution_count": 68,
   "metadata": {},
   "outputs": [],
   "source": [
    "implied_returns_train = lambda weights : (risk_aversion * cov.dot(weights))**2\n",
    "optim_weights = newton(implied_returns_train, market_weights) \n",
    "implied_returns = calculate_implied_returns(optim_weights)"
   ]
  },
  {
   "cell_type": "code",
   "execution_count": 7,
   "metadata": {},
   "outputs": [
    {
     "ename": "SyntaxError",
     "evalue": "invalid syntax (<ipython-input-7-e166c8626d8b>, line 5)",
     "output_type": "error",
     "traceback": [
      "\u001b[1;36m  File \u001b[1;32m\"<ipython-input-7-e166c8626d8b>\"\u001b[1;36m, line \u001b[1;32m5\u001b[0m\n\u001b[1;33m    Omega =\u001b[0m\n\u001b[1;37m            ^\u001b[0m\n\u001b[1;31mSyntaxError\u001b[0m\u001b[1;31m:\u001b[0m invalid syntax\n"
     ]
    }
   ],
   "source": [
    "n_views = 3\n",
    "\n",
    "Q = np.array([0.0925, 0.005, 0.055])\n",
    "P = np.ones((n_views, n_assets))\n",
    "Omega = np.zeros()"
   ]
  },
  {
   "cell_type": "code",
   "execution_count": null,
   "metadata": {},
   "outputs": [],
   "source": []
  }
 ],
 "metadata": {
  "kernelspec": {
   "display_name": "Python 3",
   "language": "python",
   "name": "python3"
  },
  "language_info": {
   "codemirror_mode": {
    "name": "ipython",
    "version": 3
   },
   "file_extension": ".py",
   "mimetype": "text/x-python",
   "name": "python",
   "nbconvert_exporter": "python",
   "pygments_lexer": "ipython3",
   "version": "3.8.3"
  }
 },
 "nbformat": 4,
 "nbformat_minor": 4
}
